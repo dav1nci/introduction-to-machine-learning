{
 "cells": [
  {
   "cell_type": "code",
   "execution_count": 4,
   "metadata": {
    "collapsed": false
   },
   "outputs": [],
   "source": [
    "from sklearn import datasets\n",
    "from sklearn.feature_extraction.text import TfidfVectorizer\n",
    "from sklearn.cross_validation import KFold\n",
    "from sklearn.svm import SVC\n",
    "from sklearn.grid_search import GridSearchCV\n",
    "import numpy as np\n",
    "\n",
    "newsgroups = datasets.fetch_20newsgroups(subset='all', categories=['alt.atheism', 'sci.space'])"
   ]
  },
  {
   "cell_type": "code",
   "execution_count": 5,
   "metadata": {
    "collapsed": false
   },
   "outputs": [
    {
     "data": {
      "text/plain": [
       "(1786, 28382)"
      ]
     },
     "execution_count": 5,
     "metadata": {},
     "output_type": "execute_result"
    }
   ],
   "source": [
    "vectorizer = TfidfVectorizer()\n",
    "X = vectorizer.fit_transform(newsgroups.data)\n",
    "y = newsgroups.target\n",
    "X = X.toarray()\n",
    "X.shape"
   ]
  },
  {
   "cell_type": "code",
   "execution_count": 6,
   "metadata": {
    "collapsed": false
   },
   "outputs": [
    {
     "name": "stdout",
     "output_type": "stream",
     "text": [
      "mean: 0.55263, std: 0.02812, params: {'C': 1.0000000000000001e-05}\n",
      "mean: 0.55263, std: 0.02812, params: {'C': 0.0001}\n",
      "mean: 0.55263, std: 0.02812, params: {'C': 0.001}\n",
      "mean: 0.55263, std: 0.02812, params: {'C': 0.01}\n",
      "mean: 0.95017, std: 0.00822, params: {'C': 0.10000000000000001}\n",
      "mean: 0.99328, std: 0.00455, params: {'C': 1.0}\n",
      "mean: 0.99328, std: 0.00455, params: {'C': 10.0}\n",
      "mean: 0.99328, std: 0.00455, params: {'C': 100.0}\n",
      "mean: 0.99328, std: 0.00455, params: {'C': 1000.0}\n",
      "mean: 0.99328, std: 0.00455, params: {'C': 10000.0}\n",
      "mean: 0.99328, std: 0.00455, params: {'C': 100000.0}\n"
     ]
    }
   ],
   "source": [
    "grid = {'C': np.power(10.0, np.arange(-5, 6))}\n",
    "cv = KFold(y.size, n_folds=5, shuffle=True, random_state=241)\n",
    "clf = SVC(kernel='linear', random_state=241)\n",
    "gs = GridSearchCV(clf, grid, scoring='accuracy', cv=cv)\n",
    "gs.fit(X, y)\n",
    "for a in gs.grid_scores_:\n",
    "    print a\n",
    "#     print a.mean_validation_score\n",
    "#     print a.parameters"
   ]
  },
  {
   "cell_type": "code",
   "execution_count": 7,
   "metadata": {
    "collapsed": false
   },
   "outputs": [],
   "source": [
    "opt_clf = SVC(C=1, kernel='linear', random_state=241)\n",
    "opt_clf.fit(X, y)\n",
    "weights = opt_clf.coef_"
   ]
  },
  {
   "cell_type": "code",
   "execution_count": 8,
   "metadata": {
    "collapsed": false
   },
   "outputs": [
    {
     "name": "stdout",
     "output_type": "stream",
     "text": [
      "[u'atheism' u'atheists' u'bible' u'god' u'keith' u'moon' u'religion' u'sci'\n",
      " u'sky' u'space']\n"
     ]
    }
   ],
   "source": [
    "abs_weights = np.abs(weights[0])\n",
    "sorted_indexes = np.argsort(abs_weights)\n",
    "max_vals = abs_weights[[sorted_indexes[-10:]]]\n",
    "\n",
    "feature_mapping = vectorizer.get_feature_names()\n",
    "words = np.array(feature_mapping)[[sorted_indexes[-10:]]]\n",
    "words.sort()\n",
    "print words"
   ]
  }
 ],
 "metadata": {
  "kernelspec": {
   "display_name": "Python 2",
   "language": "python",
   "name": "python2"
  },
  "language_info": {
   "codemirror_mode": {
    "name": "ipython",
    "version": 2
   },
   "file_extension": ".py",
   "mimetype": "text/x-python",
   "name": "python",
   "nbconvert_exporter": "python",
   "pygments_lexer": "ipython2",
   "version": "2.7.12"
  }
 },
 "nbformat": 4,
 "nbformat_minor": 0
}
