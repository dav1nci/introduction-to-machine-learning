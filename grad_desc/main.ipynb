{
 "cells": [
  {
   "cell_type": "code",
   "execution_count": 1,
   "metadata": {
    "collapsed": false
   },
   "outputs": [
    {
     "name": "stdout",
     "output_type": "stream",
     "text": [
      "0.288108194577 0.091709100476\n"
     ]
    }
   ],
   "source": [
    "import pandas\n",
    "import numpy as np\n",
    "\n",
    "data = pandas.read_csv('data-logistic.csv', header=None).as_matrix()\n",
    "X = data[:,[1,2]]\n",
    "y = data[:, 0]\n",
    "\n",
    "w = np.zeros(2)\n",
    "k = 0.1\n",
    "l = len(data)\n",
    "C = 1\n",
    "\n",
    "zip_val = zip(X, y)\n",
    "\n",
    "for i in range(20000):\n",
    "    delta_w1 = 0\n",
    "    delta_w2 = 0\n",
    "\n",
    "    for (x1x2, y) in zip_val:\n",
    "        delta_w1 += (y * x1x2[0]) * (1 - (1 / (1 + np.exp(-y * (np.dot(w, x1x2)))))) #- k * C * w[0]\n",
    "        delta_w2 += (y * x1x2[1]) * (1 - (1 / (1 + np.exp(-y * (np.dot(w, x1x2)))))) #- k * C * w[1]\n",
    "    \n",
    "    delta_w1 = delta_w1 * (k / l)\n",
    "    delta_w2 = delta_w2 * (k / l)\n",
    "\n",
    "    w[0] += delta_w1\n",
    "    w[1] += delta_w2\n",
    "\n",
    "print w[0], w[1]"
   ]
  },
  {
   "cell_type": "code",
   "execution_count": 29,
   "metadata": {
    "collapsed": false
   },
   "outputs": [
    {
     "name": "stdout",
     "output_type": "stream",
     "text": [
      "0.818042827683\n"
     ]
    },
    {
     "data": {
      "text/plain": [
       "0.927"
      ]
     },
     "execution_count": 29,
     "metadata": {},
     "output_type": "execute_result"
    }
   ],
   "source": [
    "from sklearn.metrics import roc_auc_score\n",
    "\n",
    "def predict(w, x):\n",
    "    return 1 / (1 + np.exp(-w[0] * x[0] - w[1] * x[1]))\n",
    "\n",
    "\n",
    "y_score = []\n",
    "for i in range(len(X)):\n",
    "    y_score.append(predict(w, X[i]))\n",
    "\n",
    "print np.max(y_score)\n",
    "y_true = data[:, 0]\n",
    "y_true[y_true == -1] = 0\n",
    "round(roc_auc_score(y_true, y_score), 3)"
   ]
  },
  {
   "cell_type": "code",
   "execution_count": 15,
   "metadata": {
    "collapsed": false
   },
   "outputs": [
    {
     "data": {
      "text/plain": [
       "0.83333333333333326"
      ]
     },
     "execution_count": 15,
     "metadata": {},
     "output_type": "execute_result"
    }
   ],
   "source": [
    "y_true = np.array([0, 0, 1, 1, 1])\n",
    "y_scores = np.array([0.4, 0.4, 0.5, 0.5, 0.4])\n",
    "roc_auc_score(y_true, y_scores)"
   ]
  }
 ],
 "metadata": {
  "kernelspec": {
   "display_name": "Python 2",
   "language": "python",
   "name": "python2"
  },
  "language_info": {
   "codemirror_mode": {
    "name": "ipython",
    "version": 2
   },
   "file_extension": ".py",
   "mimetype": "text/x-python",
   "name": "python",
   "nbconvert_exporter": "python",
   "pygments_lexer": "ipython2",
   "version": "2.7.12"
  }
 },
 "nbformat": 4,
 "nbformat_minor": 0
}
