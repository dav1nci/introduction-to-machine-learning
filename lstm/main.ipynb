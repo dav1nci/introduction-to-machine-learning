{
 "cells": [
  {
   "cell_type": "code",
   "execution_count": 1,
   "metadata": {
    "collapsed": false
   },
   "outputs": [
    {
     "name": "stdout",
     "output_type": "stream",
     "text": [
      "Successfully downloaded train-images-idx3-ubyte.gz 9912422 bytes.\n",
      "Extracting MNIST_data/train-images-idx3-ubyte.gz\n",
      "Successfully downloaded train-labels-idx1-ubyte.gz 28881 bytes.\n",
      "Extracting MNIST_data/train-labels-idx1-ubyte.gz\n",
      "Successfully downloaded t10k-images-idx3-ubyte.gz 1648877 bytes.\n",
      "Extracting MNIST_data/t10k-images-idx3-ubyte.gz\n",
      "Successfully downloaded t10k-labels-idx1-ubyte.gz 4542 bytes.\n",
      "Extracting MNIST_data/t10k-labels-idx1-ubyte.gz\n"
     ]
    }
   ],
   "source": [
    "import tensorflow as tf\n",
    "from tensorflow.contrib import rnn\n",
    "import numpy as np\n",
    "\n",
    "from tensorflow.examples.tutorials.mnist import input_data\n",
    "mnist = input_data.read_data_sets(\"MNIST_data/\", one_hot=True)"
   ]
  },
  {
   "cell_type": "code",
   "execution_count": 2,
   "metadata": {
    "collapsed": false
   },
   "outputs": [],
   "source": [
    "learning_rate = 0.001\n",
    "training_iters = 100000\n",
    "batch_size = 128\n",
    "display_step = 10\n",
    "\n",
    "n_input = 28 # MNIST data input (img shape: 28*28)\n",
    "n_steps = 28 # timesteps\n",
    "n_hidden = 128 # hidden layer num of features\n",
    "n_classes = 10 # MNIST total classes (0-9 digits)\n",
    "\n",
    "x = tf.placeholder(\"float\", [None, n_steps, n_input])\n",
    "y = tf.placeholder(\"float\", [None, n_classes])\n",
    "\n",
    "weights = {\n",
    "    'out': tf.Variable(tf.random_normal([n_hidden, n_classes]))\n",
    "}\n",
    "biases = {\n",
    "    'out': tf.Variable(tf.random_normal([n_classes]))\n",
    "}"
   ]
  },
  {
   "cell_type": "code",
   "execution_count": 3,
   "metadata": {
    "collapsed": false
   },
   "outputs": [],
   "source": [
    "def RNN(x, weights, biases):\n",
    "    x = tf.unstack(x, n_steps, 1)\n",
    "    lstm_cell = rnn.BasicLSTMCell(n_hidden, forget_bias=1.0)\n",
    "    outputs, states = rnn.static_rnn(lstm_cell, x, dtype=tf.float32)\n",
    "    return tf.matmul(outputs[-1], weights['out']) + biases['out']\n",
    "\n",
    "pred = RNN(x, weights, biases)\n",
    "\n",
    "cost = tf.reduce_mean(tf.nn.softmax_cross_entropy_with_logits(logits=pred, labels=y))\n",
    "optimizer = tf.train.AdamOptimizer(learning_rate=learning_rate).minimize(cost)\n",
    "\n",
    "correct_pred = tf.equal(tf.argmax(pred,1), tf.argmax(y,1))\n",
    "accuracy = tf.reduce_mean(tf.cast(correct_pred, tf.float32))\n",
    "\n",
    "init = tf.global_variables_initializer()"
   ]
  },
  {
   "cell_type": "code",
   "execution_count": 6,
   "metadata": {
    "collapsed": false
   },
   "outputs": [
    {
     "name": "stdout",
     "output_type": "stream",
     "text": [
      "Iter 1280, Minibatch Loss= 1.745319, Training Accuracy= 0.46094\n",
      "Iter 2560, Minibatch Loss= 1.578066, Training Accuracy= 0.50000\n",
      "Iter 3840, Minibatch Loss= 1.181139, Training Accuracy= 0.59375\n",
      "Iter 5120, Minibatch Loss= 0.967973, Training Accuracy= 0.65625\n",
      "Iter 6400, Minibatch Loss= 0.800490, Training Accuracy= 0.70312\n",
      "Iter 7680, Minibatch Loss= 1.137380, Training Accuracy= 0.62500\n",
      "Iter 8960, Minibatch Loss= 0.777958, Training Accuracy= 0.75781\n",
      "Iter 10240, Minibatch Loss= 0.617608, Training Accuracy= 0.81250\n",
      "Iter 11520, Minibatch Loss= 0.396925, Training Accuracy= 0.88281\n",
      "Iter 12800, Minibatch Loss= 0.685241, Training Accuracy= 0.75781\n",
      "Iter 14080, Minibatch Loss= 0.574245, Training Accuracy= 0.82812\n",
      "Iter 15360, Minibatch Loss= 0.356588, Training Accuracy= 0.92188\n",
      "Iter 16640, Minibatch Loss= 0.524075, Training Accuracy= 0.87500\n",
      "Iter 17920, Minibatch Loss= 0.305931, Training Accuracy= 0.91406\n",
      "Iter 19200, Minibatch Loss= 0.284920, Training Accuracy= 0.86719\n",
      "Iter 20480, Minibatch Loss= 0.195523, Training Accuracy= 0.95312\n",
      "Iter 21760, Minibatch Loss= 0.492434, Training Accuracy= 0.81250\n",
      "Iter 23040, Minibatch Loss= 0.229457, Training Accuracy= 0.91406\n",
      "Iter 24320, Minibatch Loss= 0.380721, Training Accuracy= 0.88281\n",
      "Iter 25600, Minibatch Loss= 0.424253, Training Accuracy= 0.85156\n",
      "Iter 26880, Minibatch Loss= 0.254099, Training Accuracy= 0.92188\n",
      "Iter 28160, Minibatch Loss= 0.283821, Training Accuracy= 0.90625\n",
      "Iter 29440, Minibatch Loss= 0.379117, Training Accuracy= 0.89844\n",
      "Iter 30720, Minibatch Loss= 0.313413, Training Accuracy= 0.89062\n",
      "Iter 32000, Minibatch Loss= 0.231435, Training Accuracy= 0.92188\n",
      "Iter 33280, Minibatch Loss= 0.361240, Training Accuracy= 0.86719\n",
      "Iter 34560, Minibatch Loss= 0.256175, Training Accuracy= 0.93750\n",
      "Iter 35840, Minibatch Loss= 0.233291, Training Accuracy= 0.93750\n",
      "Iter 37120, Minibatch Loss= 0.329724, Training Accuracy= 0.89062\n",
      "Iter 38400, Minibatch Loss= 0.143943, Training Accuracy= 0.93750\n",
      "Iter 39680, Minibatch Loss= 0.157169, Training Accuracy= 0.92969\n",
      "Iter 40960, Minibatch Loss= 0.322000, Training Accuracy= 0.89062\n",
      "Iter 42240, Minibatch Loss= 0.164933, Training Accuracy= 0.96094\n",
      "Iter 43520, Minibatch Loss= 0.218547, Training Accuracy= 0.93750\n",
      "Iter 44800, Minibatch Loss= 0.177356, Training Accuracy= 0.94531\n",
      "Iter 46080, Minibatch Loss= 0.122671, Training Accuracy= 0.94531\n",
      "Iter 47360, Minibatch Loss= 0.276394, Training Accuracy= 0.92188\n",
      "Iter 48640, Minibatch Loss= 0.241889, Training Accuracy= 0.91406\n",
      "Iter 49920, Minibatch Loss= 0.255757, Training Accuracy= 0.90625\n",
      "Iter 51200, Minibatch Loss= 0.114607, Training Accuracy= 0.96094\n",
      "Iter 52480, Minibatch Loss= 0.207282, Training Accuracy= 0.94531\n",
      "Iter 53760, Minibatch Loss= 0.049665, Training Accuracy= 0.97656\n",
      "Iter 55040, Minibatch Loss= 0.286382, Training Accuracy= 0.92969\n",
      "Iter 56320, Minibatch Loss= 0.181047, Training Accuracy= 0.96094\n",
      "Iter 57600, Minibatch Loss= 0.158978, Training Accuracy= 0.95312\n",
      "Iter 58880, Minibatch Loss= 0.304111, Training Accuracy= 0.91406\n",
      "Iter 60160, Minibatch Loss= 0.137809, Training Accuracy= 0.94531\n",
      "Iter 61440, Minibatch Loss= 0.206621, Training Accuracy= 0.94531\n",
      "Iter 62720, Minibatch Loss= 0.183035, Training Accuracy= 0.96094\n",
      "Iter 64000, Minibatch Loss= 0.166572, Training Accuracy= 0.92969\n",
      "Iter 65280, Minibatch Loss= 0.171015, Training Accuracy= 0.95312\n",
      "Iter 66560, Minibatch Loss= 0.127530, Training Accuracy= 0.96094\n",
      "Iter 67840, Minibatch Loss= 0.111598, Training Accuracy= 0.96875\n",
      "Iter 69120, Minibatch Loss= 0.099597, Training Accuracy= 0.96875\n",
      "Iter 70400, Minibatch Loss= 0.132779, Training Accuracy= 0.96094\n",
      "Iter 71680, Minibatch Loss= 0.152761, Training Accuracy= 0.95312\n",
      "Iter 72960, Minibatch Loss= 0.153915, Training Accuracy= 0.95312\n",
      "Iter 74240, Minibatch Loss= 0.181489, Training Accuracy= 0.93750\n",
      "Iter 75520, Minibatch Loss= 0.144973, Training Accuracy= 0.95312\n",
      "Iter 76800, Minibatch Loss= 0.115766, Training Accuracy= 0.95312\n",
      "Iter 78080, Minibatch Loss= 0.093458, Training Accuracy= 0.96875\n",
      "Iter 79360, Minibatch Loss= 0.141123, Training Accuracy= 0.93750\n",
      "Iter 80640, Minibatch Loss= 0.183009, Training Accuracy= 0.94531\n",
      "Iter 81920, Minibatch Loss= 0.230160, Training Accuracy= 0.93750\n",
      "Iter 83200, Minibatch Loss= 0.150159, Training Accuracy= 0.95312\n",
      "Iter 84480, Minibatch Loss= 0.081679, Training Accuracy= 0.97656\n",
      "Iter 85760, Minibatch Loss= 0.100972, Training Accuracy= 0.97656\n",
      "Iter 87040, Minibatch Loss= 0.062728, Training Accuracy= 0.98438\n",
      "Iter 88320, Minibatch Loss= 0.149685, Training Accuracy= 0.95312\n",
      "Iter 89600, Minibatch Loss= 0.210286, Training Accuracy= 0.94531\n",
      "Iter 90880, Minibatch Loss= 0.076186, Training Accuracy= 0.97656\n",
      "Iter 92160, Minibatch Loss= 0.044645, Training Accuracy= 0.97656\n",
      "Iter 93440, Minibatch Loss= 0.225019, Training Accuracy= 0.94531\n",
      "Iter 94720, Minibatch Loss= 0.100803, Training Accuracy= 0.96875\n",
      "Iter 96000, Minibatch Loss= 0.092196, Training Accuracy= 0.96875\n",
      "Iter 97280, Minibatch Loss= 0.254533, Training Accuracy= 0.92969\n",
      "Iter 98560, Minibatch Loss= 0.045069, Training Accuracy= 0.98438\n",
      "Iter 99840, Minibatch Loss= 0.142744, Training Accuracy= 0.93750\n",
      "Testing Accuracy: 0.96875\n"
     ]
    }
   ],
   "source": [
    "with tf.Session() as sess:\n",
    "    sess.run(init)\n",
    "    step = 1\n",
    "    while step * batch_size < training_iters:\n",
    "        batch_x, batch_y = mnist.train.next_batch(batch_size)\n",
    "        batch_x = batch_x.reshape((batch_size, n_steps, n_input))\n",
    "        sess.run(optimizer, feed_dict={x: batch_x, y: batch_y})\n",
    "        if step % display_step == 0:\n",
    "            acc = sess.run(accuracy, feed_dict={x: batch_x, y: batch_y})\n",
    "            loss = sess.run(cost, feed_dict={x: batch_x, y: batch_y})\n",
    "            print (\"Iter \" + str(step*batch_size) + \", Minibatch Loss= \" + \\\n",
    "                  \"{:.6f}\".format(loss) + \", Training Accuracy= \" + \\\n",
    "                  \"{:.5f}\".format(acc))\n",
    "        step += 1\n",
    "\n",
    "    test_len = 128\n",
    "    test_data = mnist.test.images[:test_len].reshape((-1, n_steps, n_input))\n",
    "    test_label = mnist.test.labels[:test_len]\n",
    "    print (\"Testing Accuracy:\", \\\n",
    "        sess.run(accuracy, feed_dict={x: test_data, y: test_label}))"
   ]
  }
 ],
 "metadata": {
  "kernelspec": {
   "display_name": "python3.5",
   "language": "python",
   "name": "python3.5"
  },
  "language_info": {
   "codemirror_mode": {
    "name": "ipython",
    "version": 3
   },
   "file_extension": ".py",
   "mimetype": "text/x-python",
   "name": "python",
   "nbconvert_exporter": "python",
   "pygments_lexer": "ipython3",
   "version": "3.5.2"
  }
 },
 "nbformat": 4,
 "nbformat_minor": 0
}
