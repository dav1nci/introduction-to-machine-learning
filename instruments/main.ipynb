{
 "cells": [
  {
   "cell_type": "code",
   "execution_count": 1,
   "metadata": {
    "collapsed": false
   },
   "outputs": [],
   "source": [
    "%matplotlib inline\n",
    "import numpy as np\n",
    "import pandas\n",
    "from scipy.stats.stats import pearsonr\n",
    "\n",
    "data = pandas.read_csv('titanic.csv', index_col='PassengerId')\n",
    "ages = data.as_matrix(['Age']).flatten()\n",
    "# remove all 'nan' values\n",
    "ages = ages[np.logical_not(np.isnan(ages))]\n",
    "\n",
    "# result values\n",
    "total_passengers = len(data.index)\n",
    "males_count = data['Sex'].value_counts()['male']\n",
    "females_count = data['Sex'].value_counts()['female']\n",
    "survivals_count = round(float(data['Survived'].value_counts()[1]) / total_passengers, 4) * 100\n",
    "first_class = round(float(data['Pclass'].value_counts()[1]) / total_passengers, 4) * 100\n",
    "age_avg = round(np.mean(ages), 2)\n",
    "age_median = np.median(ages)\n",
    "SibSp = data.as_matrix(['SibSp']).flatten()\n",
    "Parch = data.as_matrix(['Parch']).flatten()\n",
    "(pearson1, _) = pearsonr(SibSp, Parch)\n",
    "pearson1 = round(pearson1, 2)\n",
    "# end of result values\n",
    "\n",
    "f1 = open('1.txt', 'w')\n",
    "f2 = open('2.txt', 'w')\n",
    "f3 = open('3.txt', 'w')\n",
    "f4 = open('4.txt', 'w')\n",
    "f5 = open('5.txt', 'w')\n",
    "f6 = open('6.txt', 'w')\n",
    "\n",
    "f1.write('{} {}'.format(males_count, females_count))\n",
    "f2.write('{}'.format(survivals_count))\n",
    "f3.write('{}'.format(first_class))\n",
    "f4.write('{} {}'.format(age_avg, age_median))\n",
    "f5.write(str(pearson1))\n",
    "\n",
    "f1.close()\n",
    "f2.close()\n",
    "f3.close()\n",
    "f4.close()\n",
    "f5.close()\n",
    "f6.close()"
   ]
  },
  {
   "cell_type": "code",
   "execution_count": 32,
   "metadata": {
    "collapsed": false
   },
   "outputs": [
    {
     "name": "stdout",
     "output_type": "stream",
     "text": [
      "891\n",
      "0.242424242424\n",
      "survived = 0.0\n",
      "0    549\n",
      "1    342\n",
      "Name: Survived, dtype: int64\n"
     ]
    }
   ],
   "source": [
    "# Mrs. and Miss. for females\n",
    "# Master for young boys, Mr. for old ones\n",
    "print total_passengers\n",
    "print (float(data['Pclass'].value_counts()[1]) / total_passengers)\n",
    "\n",
    "print 'survived = {}'.format(float(data['Survived'].value_counts()[1] / total_passengers))\n",
    "\n",
    "print data['Survived'].value_counts()"
   ]
  }
 ],
 "metadata": {
  "kernelspec": {
   "display_name": "Python 2",
   "language": "python",
   "name": "python2"
  },
  "language_info": {
   "codemirror_mode": {
    "name": "ipython",
    "version": 2
   },
   "file_extension": ".py",
   "mimetype": "text/x-python",
   "name": "python",
   "nbconvert_exporter": "python",
   "pygments_lexer": "ipython2",
   "version": "2.7.12"
  }
 },
 "nbformat": 4,
 "nbformat_minor": 0
}
