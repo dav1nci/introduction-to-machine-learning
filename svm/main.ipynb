{
 "cells": [
  {
   "cell_type": "code",
   "execution_count": 2,
   "metadata": {
    "collapsed": false
   },
   "outputs": [
    {
     "data": {
      "text/plain": [
       "array([[ 0.7 ,  0.29],\n",
       "       [ 0.23,  0.55],\n",
       "       [ 0.72,  0.42],\n",
       "       [ 0.98,  0.68],\n",
       "       [ 0.48,  0.39],\n",
       "       [ 0.34,  0.73],\n",
       "       [ 0.44,  0.06],\n",
       "       [ 0.4 ,  0.74],\n",
       "       [ 0.18,  0.18],\n",
       "       [ 0.53,  0.53]])"
      ]
     },
     "execution_count": 2,
     "metadata": {},
     "output_type": "execute_result"
    }
   ],
   "source": [
    "%matplotlib inline\n",
    "from sklearn.svm import SVC\n",
    "import pandas\n",
    "import numpy as np\n",
    "import matplotlib.pyplot as plt\n",
    "\n",
    "data = pandas.read_csv('svm-data.csv', header=None).as_matrix()\n",
    "y_train = data[:, 0]\n",
    "X_train = np.delete(data, [0], axis=1)\n",
    "X_train"
   ]
  },
  {
   "cell_type": "code",
   "execution_count": 3,
   "metadata": {
    "collapsed": false
   },
   "outputs": [
    {
     "data": {
      "image/png": "[encoded data removed]",
      "text/plain": [
       "<matplotlib.figure.Figure at 0x7f207eb0a2d0>"
      ]
     },
     "metadata": {},
     "output_type": "display_data"
    },
    {
     "name": "stdout",
     "output_type": "stream",
     "text": [
      "[3 4 9]\n",
      "[[-10.4526212   18.02446131]]\n"
     ]
    }
   ],
   "source": [
    "svc = SVC(C=100000, kernel='linear', random_state=241)\n",
    "svc.fit(X_train, y_train)\n",
    "x = np.linspace(0, len(X_train), 10)\n",
    "y = X_train[:, 1]\n",
    "plt.scatter(X_train[:, 0], X_train[:, 1], c=y_train, s=50, alpha=0.5)\n",
    "plt.show()\n",
    "print svc.support_\n",
    "print svc.coef_"
   ]
  }
 ],
 "metadata": {
  "kernelspec": {
   "display_name": "Python 2",
   "language": "python",
   "name": "python2"
  },
  "language_info": {
   "codemirror_mode": {
    "name": "ipython",
    "version": 2
   },
   "file_extension": ".py",
   "mimetype": "text/x-python",
   "name": "python",
   "nbconvert_exporter": "python",
   "pygments_lexer": "ipython2",
   "version": "2.7.6"
  }
 },
 "nbformat": 4,
 "nbformat_minor": 0
}
