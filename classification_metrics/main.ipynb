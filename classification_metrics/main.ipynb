{
 "cells": [
  {
   "cell_type": "code",
   "execution_count": 2,
   "metadata": {
    "collapsed": false
   },
   "outputs": [
    {
     "name": "stdout",
     "output_type": "stream",
     "text": [
      "tp = <64>, fp = <34>, fn = <59>, tn = <43>\n"
     ]
    }
   ],
   "source": [
    "import pandas\n",
    "import numpy as np\n",
    "\n",
    "data = pandas.read_csv('classification.csv')\n",
    "data = data.as_matrix()\n",
    "\n",
    "tp_array = data[data[:, 0] == 0]\n",
    "tp_array = tp_array[tp_array[:, 1] == 0]\n",
    "\n",
    "fp_array = data[data[:, 0] == 0]\n",
    "fp_array = fp_array[fp_array[:, 1] == 1]\n",
    "\n",
    "fn_array = data[data[:, 0] == 1]\n",
    "fn_array = fn_array[fn_array[:, 1] == 0]\n",
    "\n",
    "tn_array = data[data[:, 0] == 1]\n",
    "tn_array = tn_array[tn_array[:, 1] == 1]\n",
    "\n",
    "print 'tp = <{}>, fp = <{}>, fn = <{}>, tn = <{}>'.format(len(tp_array), len(fp_array), len(fn_array), len(tn_array))"
   ]
  },
  {
   "cell_type": "code",
   "execution_count": 3,
   "metadata": {
    "collapsed": false
   },
   "outputs": [
    {
     "name": "stdout",
     "output_type": "stream",
     "text": [
      "0.54\n",
      "0.56\n",
      "0.42\n",
      "0.48\n"
     ]
    }
   ],
   "source": [
    "from sklearn.metrics import accuracy_score\n",
    "from sklearn.metrics import precision_score\n",
    "from sklearn.metrics import recall_score\n",
    "from sklearn.metrics import f1_score\n",
    "\n",
    "print round(accuracy_score(data[:, 0], data[:, 1]), 2)\n",
    "print round(precision_score(data[:, 0], data[:, 1]), 2)\n",
    "print round(recall_score(data[:, 0], data[:, 1]), 2)\n",
    "print round(f1_score(data[:, 0], data[:, 1]), 2)"
   ]
  },
  {
   "cell_type": "code",
   "execution_count": 4,
   "metadata": {
    "collapsed": false
   },
   "outputs": [
    {
     "name": "stdout",
     "output_type": "stream",
     "text": [
      "0.72\n",
      "0.71\n",
      "0.64\n",
      "0.69\n"
     ]
    }
   ],
   "source": [
    "from sklearn.metrics import roc_auc_score\n",
    "data_scores = pandas.read_csv('scores.csv')\n",
    "data_scores_matrix = data_scores.as_matrix()\n",
    "y_true = np.array(data_scores_matrix[:, 0])\n",
    "\n",
    "print round(roc_auc_score(y_true, data_scores_matrix[:, 1]), 2)\n",
    "print round(roc_auc_score(y_true, data_scores_matrix[:, 2]), 2)\n",
    "print round(roc_auc_score(y_true, data_scores_matrix[:, 3]), 2)\n",
    "print round(roc_auc_score(y_true, data_scores_matrix[:, 4]), 2)\n",
    "# data_scores"
   ]
  },
  {
   "cell_type": "code",
   "execution_count": 5,
   "metadata": {
    "collapsed": false
   },
   "outputs": [
    {
     "name": "stdout",
     "output_type": "stream",
     "text": [
      "[array([ 0.62,  0.7 ]), array([ 0.76,  0.13]), array([ 0.6 ,  0.61]), array([ 0.68,  0.66])]\n"
     ]
    }
   ],
   "source": [
    "prec_rec = []\n",
    "for i in range(4):\n",
    "    y_score = [0 if x < 0.5 else 1 for x in data_scores_matrix[:, i + 1]]\n",
    "    prec_rec.append(np.array([\n",
    "            round(precision_score(y_true, y_score), 2),\n",
    "            round(recall_score(y_true, y_score), 2)]))\n",
    "    \n",
    "print prec_rec"
   ]
  }
 ],
 "metadata": {
  "kernelspec": {
   "display_name": "Python 2",
   "language": "python",
   "name": "python2"
  },
  "language_info": {
   "codemirror_mode": {
    "name": "ipython",
    "version": 2
   },
   "file_extension": ".py",
   "mimetype": "text/x-python",
   "name": "python",
   "nbconvert_exporter": "python",
   "pygments_lexer": "ipython2",
   "version": "2.7.12"
  }
 },
 "nbformat": 4,
 "nbformat_minor": 0
}
