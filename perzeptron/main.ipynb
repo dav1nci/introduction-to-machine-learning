{
 "cells": [
  {
   "cell_type": "code",
   "execution_count": 1,
   "metadata": {
    "collapsed": false
   },
   "outputs": [],
   "source": [
    "%matplotlib inline\n",
    "import numpy as np\n",
    "from sklearn.linear_model import Perceptron\n",
    "from sklearn.metrics import accuracy_score\n",
    "from sklearn.preprocessing import StandardScaler\n",
    "# from sklearn.neighbors import KNeighborsRegressor\n",
    "# from sklearn.cross_validation import KFold\n",
    "# from sklearn.cross_validation import cross_val_score\n",
    "# from sklearn.preprocessing import scale\n",
    "# from sklearn.datasets import load_boston\n",
    "import pandas\n",
    "import matplotlib.pyplot as plt\n",
    "\n",
    "test_data = pandas.read_csv('test.csv', header=None).as_matrix()\n",
    "train_data = pandas.read_csv('train.csv', header=None).as_matrix()\n",
    "\n",
    "test_y = test_data[:, 0]\n",
    "test_X = np.delete(test_data, [0], axis=1)\n",
    "\n",
    "train_y = train_data[:, 0]\n",
    "train_X = np.delete(train_data, [0], axis=1)"
   ]
  },
  {
   "cell_type": "code",
   "execution_count": 2,
   "metadata": {
    "collapsed": false
   },
   "outputs": [
    {
     "name": "stdout",
     "output_type": "stream",
     "text": [
      "without scaling accuracy = <0.655>\n",
      "after scaling accuracy = <0.845>\n",
      "delta between scaled and not scaled data is <0.19>\n"
     ]
    }
   ],
   "source": [
    "clf = Perceptron(random_state=241)\n",
    "clf.fit(train_X, train_y)\n",
    "accuracy_not_scaled = accuracy_score(test_y, clf.predict(test_X))\n",
    "print 'without scaling accuracy = <{}>'.format(accuracy_not_scaled)\n",
    "\n",
    "# Scale data\n",
    "scaler = StandardScaler()\n",
    "train_X_scaled = scaler.fit_transform(train_X)\n",
    "test_X_scaled = scaler.transform(test_X)\n",
    "\n",
    "\n",
    "clf.fit(train_X_scaled, train_y)\n",
    "accuracy_scaled = accuracy_score(test_y, clf.predict(test_X_scaled))\n",
    "print 'after scaling accuracy = <{}>'.format(accuracy_scaled)\n",
    "\n",
    "print 'delta between scaled and not scaled data is <{}>'.format(round((accuracy_scaled - accuracy_not_scaled), 3))"
   ]
  }
 ],
 "metadata": {
  "kernelspec": {
   "display_name": "Python 2",
   "language": "python",
   "name": "python2"
  },
  "language_info": {
   "codemirror_mode": {
    "name": "ipython",
    "version": 2
   },
   "file_extension": ".py",
   "mimetype": "text/x-python",
   "name": "python",
   "nbconvert_exporter": "python",
   "pygments_lexer": "ipython2",
   "version": "2.7.12"
  }
 },
 "nbformat": 4,
 "nbformat_minor": 0
}
