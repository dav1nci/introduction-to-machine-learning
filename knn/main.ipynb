{
 "cells": [
  {
   "cell_type": "code",
   "execution_count": 29,
   "metadata": {
    "collapsed": false
   },
   "outputs": [],
   "source": [
    "%matplotlib inline\n",
    "import numpy as np\n",
    "from sklearn.neighbors import KNeighborsClassifier\n",
    "from sklearn.cross_validation import KFold\n",
    "from sklearn.cross_validation import cross_val_score\n",
    "from sklearn.preprocessing import scale\n",
    "import pandas\n",
    "import matplotlib.pyplot as plt\n",
    "\n",
    "data = pandas.read_csv('wine.csv')\n"
   ]
  },
  {
   "cell_type": "code",
   "execution_count": 43,
   "metadata": {
    "collapsed": false
   },
   "outputs": [
    {
     "data": {
      "image/png": "[encoded data removed]",
      "text/plain": [
       "<matplotlib.figure.Figure at 0x7f030b311250>"
      ]
     },
     "metadata": {},
     "output_type": "display_data"
    },
    {
     "name": "stdout",
     "output_type": "stream",
     "text": [
      "k_max without scaling = <1>\n",
      "max score without scaling = <0.73>\n",
      "k_max with scaling = <29>\n",
      "max score with scaling = <0.98>\n"
     ]
    }
   ],
   "source": [
    "X = data.as_matrix()\n",
    "y = X[:, 0]\n",
    "X = np.delete(X, [0], axis=1)\n",
    "\n",
    "kf = KFold(len(X), n_folds=5, shuffle=True, random_state=42)\n",
    "\n",
    "accuracy = []\n",
    "for n_neigh in range(1, 51):    \n",
    "    neigh = KNeighborsClassifier(n_neighbors=n_neigh)\n",
    "    accuracy.append(np.mean(cross_val_score(estimator=neigh, X=X, y=y, cv=kf)))\n",
    "\n",
    "accuracy_scaled = []\n",
    "for n_neigh in range(1, 51):    \n",
    "    neigh = KNeighborsClassifier(n_neighbors=n_neigh)\n",
    "    accuracy_scaled.append(np.mean(cross_val_score(estimator=neigh, X=scale(X), y=y, cv=kf)))\n",
    "\n",
    "x = range(1,51)\n",
    "plt.plot(x, accuracy, 'r')\n",
    "plt.plot(x, accuracy_scaled, 'b')\n",
    "plt.plot(np.argmax(accuracy) + 1, np.amax(accuracy), 'ro')\n",
    "plt.plot(np.argmax(accuracy_scaled) + 1, np.amax(accuracy_scaled), 'bo')\n",
    "plt.ylabel('accuracy')\n",
    "plt.xlabel('neighbors')\n",
    "plt.axis([0, 51, 0, 1])\n",
    "plt.show()\n",
    "print 'k_max without scaling = <{}>'.format(np.argmax(accuracy) + 1)\n",
    "print 'max score without scaling = <{}>'.format(round(np.amax(accuracy), 2))\n",
    "print 'k_max with scaling = <{}>'.format(np.argmax(accuracy_scaled) + 1)\n",
    "print 'max score with scaling = <{}>'.format(round(np.amax(accuracy_scaled), 2))"
   ]
  },
  {
   "cell_type": "code",
   "execution_count": 34,
   "metadata": {
    "collapsed": false
   },
   "outputs": [
    {
     "name": "stdout",
     "output_type": "stream",
     "text": [
      "[[1 2]\n",
      " [3 4]\n",
      " [5 6]\n",
      " [7 8]]\n"
     ]
    },
    {
     "data": {
      "text/plain": [
       "array([[-1.34164079, -1.34164079],\n",
       "       [-0.4472136 , -0.4472136 ],\n",
       "       [ 0.4472136 ,  0.4472136 ],\n",
       "       [ 1.34164079,  1.34164079]])"
      ]
     },
     "execution_count": 34,
     "metadata": {},
     "output_type": "execute_result"
    }
   ],
   "source": [
    "X = np.array([[1, 2], [3, 4], [5, 6], [7, 8]])\n",
    "y = np.array([1, 2, 3, 4])\n",
    "kf = KFold(4, n_folds=3, shuffle=True, random_state=42)\n",
    "print X\n",
    "scale(X)\n",
    "# for train_index, test_index in kf:\n",
    "#     X_train, X_test = X[train_index], X[test_index]\n",
    "#     y_train, y_test = y[train_index], y[test_index]\n",
    "#     neigh.fit(X_train, y_train)\n",
    "#     results = neigh.predict(X_test)\n",
    "#     mistakes_count = np.count_nonzero(results - y_test)\n",
    "#     err_score = float(mistakes_count) / len(y_test)\n",
    "#     print 1.0 - err_score\n",
    "    "
   ]
  }
 ],
 "metadata": {
  "kernelspec": {
   "display_name": "Python 2",
   "language": "python",
   "name": "python2"
  },
  "language_info": {
   "codemirror_mode": {
    "name": "ipython",
    "version": 2
   },
   "file_extension": ".py",
   "mimetype": "text/x-python",
   "name": "python",
   "nbconvert_exporter": "python",
   "pygments_lexer": "ipython2",
   "version": "2.7.6"
  }
 },
 "nbformat": 4,
 "nbformat_minor": 0
}
